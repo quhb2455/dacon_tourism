{
 "cells": [
  {
   "cell_type": "code",
   "execution_count": 5,
   "id": "0162c27a",
   "metadata": {},
   "outputs": [],
   "source": [
    "from konlpy.tag import Okt\n",
    "from typing import List\n",
    "from textrankr import TextRank\n",
    "class OktTokenizer:\n",
    "    okt: Okt = Okt()\n",
    "\n",
    "    def __call__(self, text: str) -> List[str]:\n",
    "        tokens: List[str] = self.okt.pos(text, norm=True, stem=True, join=True)\n",
    "        return tokens\n",
    "k = 3   \n",
    "tok = OktTokenizer()\n",
    "textrank = TextRank(tok)\n",
    "\n",
    "stri = '''\n",
    "소안항은 조용한 섬으로 인근해안이 청정해역으로 일찍이 김 양식을 해서 높은 소득을 올리고 있으며 바다낚시터로도 유명하다. 항 주변에 설치된 양식장들은 섬사람들의 부지런한 생활상을 고스 란히 담고 있으며 일몰 때 섬의 정경은 바다의 아름다움을 그대로 품고 있는 듯하다. 또한, 섬에는 각시여 전설, 도둑바위 등의 설화가 전해 내려오고 있으며, 매년 정월 풍어제 풍속이 이어지고 있다.<br>\n",
    "'''\n",
    "\n",
    "b = textrank.summarize(stri, k, verbose=False)"
   ]
  },
  {
   "cell_type": "code",
   "execution_count": 6,
   "id": "f3b69ec1",
   "metadata": {},
   "outputs": [
    {
     "name": "stdout",
     "output_type": "stream",
     "text": [
      "['형태소', '란', '문장', '구성', '하다', '의미', '요소', '중', '가장', '작다', '단위', '말', '하다']\n"
     ]
    }
   ],
   "source": [
    "from konlpy.tag import Okt\n",
    "voc = '형태소 란 문장을 구성하는 의미 요소 중 가장 작은 단위를 말한다.'\n",
    "okt_pos = Okt().pos(voc, norm=True, stem=True) \n",
    "okt_filtering = [x for x, y in okt_pos if y in ['Noun', 'Adjective', 'Verb']]\n",
    "print(okt_filtering) "
   ]
  },
  {
   "cell_type": "code",
   "execution_count": 7,
   "id": "4dce1d8a",
   "metadata": {},
   "outputs": [
    {
     "data": {
      "text/plain": [
       "['소안항은 조용한 섬으로 인근해안이 청정해역으로 일찍이 김 양식을 해서 높은 소득을 올리고 있으며 바다낚시터로도 유명하다',\n",
       " '항 주변에 설치된 양식장들은 섬사람들의 부지런한 생활상을 고스 란히 담고 있으며 일몰 때 섬의 정경은 바다의 아름다움을 그대로 품고 있는 듯하다',\n",
       " '또한, 섬에는 각시여 전설, 도둑바위 등의 설화가 전해 내려오고 있으며, 매년 정월 풍어제 풍속이 이어지고 있다']"
      ]
     },
     "execution_count": 7,
     "metadata": {},
     "output_type": "execute_result"
    }
   ],
   "source": [
    "b"
   ]
  },
  {
   "cell_type": "code",
   "execution_count": 3,
   "id": "7858ed71",
   "metadata": {},
   "outputs": [],
   "source": [
    "import pandas as pd"
   ]
  },
  {
   "cell_type": "code",
   "execution_count": 4,
   "id": "17f26fcd",
   "metadata": {},
   "outputs": [
    {
     "data": {
      "text/html": [
       "<div>\n",
       "<style scoped>\n",
       "    .dataframe tbody tr th:only-of-type {\n",
       "        vertical-align: middle;\n",
       "    }\n",
       "\n",
       "    .dataframe tbody tr th {\n",
       "        vertical-align: top;\n",
       "    }\n",
       "\n",
       "    .dataframe thead th {\n",
       "        text-align: right;\n",
       "    }\n",
       "</style>\n",
       "<table border=\"1\" class=\"dataframe\">\n",
       "  <thead>\n",
       "    <tr style=\"text-align: right;\">\n",
       "      <th></th>\n",
       "      <th>id</th>\n",
       "      <th>cat3</th>\n",
       "    </tr>\n",
       "  </thead>\n",
       "  <tbody>\n",
       "    <tr>\n",
       "      <th>0</th>\n",
       "      <td>TEST_00000</td>\n",
       "      <td>외국문화원</td>\n",
       "    </tr>\n",
       "    <tr>\n",
       "      <th>1</th>\n",
       "      <td>TEST_00001</td>\n",
       "      <td>외국문화원</td>\n",
       "    </tr>\n",
       "    <tr>\n",
       "      <th>2</th>\n",
       "      <td>TEST_00002</td>\n",
       "      <td>외국문화원</td>\n",
       "    </tr>\n",
       "    <tr>\n",
       "      <th>3</th>\n",
       "      <td>TEST_00003</td>\n",
       "      <td>패밀리레스토랑</td>\n",
       "    </tr>\n",
       "    <tr>\n",
       "      <th>4</th>\n",
       "      <td>TEST_00004</td>\n",
       "      <td>민박</td>\n",
       "    </tr>\n",
       "    <tr>\n",
       "      <th>...</th>\n",
       "      <td>...</td>\n",
       "      <td>...</td>\n",
       "    </tr>\n",
       "    <tr>\n",
       "      <th>7275</th>\n",
       "      <td>TEST_07275</td>\n",
       "      <td>기암괴석</td>\n",
       "    </tr>\n",
       "    <tr>\n",
       "      <th>7276</th>\n",
       "      <td>TEST_07276</td>\n",
       "      <td>기암괴석</td>\n",
       "    </tr>\n",
       "    <tr>\n",
       "      <th>7277</th>\n",
       "      <td>TEST_07277</td>\n",
       "      <td>서양식</td>\n",
       "    </tr>\n",
       "    <tr>\n",
       "      <th>7278</th>\n",
       "      <td>TEST_07278</td>\n",
       "      <td>스노쿨링/스킨스쿠버다이빙</td>\n",
       "    </tr>\n",
       "    <tr>\n",
       "      <th>7279</th>\n",
       "      <td>TEST_07279</td>\n",
       "      <td>외국문화원</td>\n",
       "    </tr>\n",
       "  </tbody>\n",
       "</table>\n",
       "<p>7280 rows × 2 columns</p>\n",
       "</div>"
      ],
      "text/plain": [
       "              id           cat3\n",
       "0     TEST_00000          외국문화원\n",
       "1     TEST_00001          외국문화원\n",
       "2     TEST_00002          외국문화원\n",
       "3     TEST_00003        패밀리레스토랑\n",
       "4     TEST_00004             민박\n",
       "...          ...            ...\n",
       "7275  TEST_07275           기암괴석\n",
       "7276  TEST_07276           기암괴석\n",
       "7277  TEST_07277            서양식\n",
       "7278  TEST_07278  스노쿨링/스킨스쿠버다이빙\n",
       "7279  TEST_07279          외국문화원\n",
       "\n",
       "[7280 rows x 2 columns]"
      ]
     },
     "execution_count": 4,
     "metadata": {},
     "output_type": "execute_result"
    }
   ],
   "source": [
    "A = pd.read_csv('./roberta-s_E10_lr3e5_adamw_fullPreprocessing_PosExtractor_S20.csv')\n",
    "A"
   ]
  },
  {
   "cell_type": "code",
   "execution_count": 5,
   "id": "383fb534",
   "metadata": {
    "scrolled": false
   },
   "outputs": [
    {
     "data": {
      "text/html": [
       "<div>\n",
       "<style scoped>\n",
       "    .dataframe tbody tr th:only-of-type {\n",
       "        vertical-align: middle;\n",
       "    }\n",
       "\n",
       "    .dataframe tbody tr th {\n",
       "        vertical-align: top;\n",
       "    }\n",
       "\n",
       "    .dataframe thead th {\n",
       "        text-align: right;\n",
       "    }\n",
       "</style>\n",
       "<table border=\"1\" class=\"dataframe\">\n",
       "  <thead>\n",
       "    <tr style=\"text-align: right;\">\n",
       "      <th></th>\n",
       "      <th>id</th>\n",
       "      <th>cat3</th>\n",
       "    </tr>\n",
       "  </thead>\n",
       "  <tbody>\n",
       "    <tr>\n",
       "      <th>0</th>\n",
       "      <td>TEST_00000</td>\n",
       "      <td>한식</td>\n",
       "    </tr>\n",
       "    <tr>\n",
       "      <th>1</th>\n",
       "      <td>TEST_00001</td>\n",
       "      <td>한식</td>\n",
       "    </tr>\n",
       "    <tr>\n",
       "      <th>2</th>\n",
       "      <td>TEST_00002</td>\n",
       "      <td>한식</td>\n",
       "    </tr>\n",
       "    <tr>\n",
       "      <th>3</th>\n",
       "      <td>TEST_00003</td>\n",
       "      <td>수련시설</td>\n",
       "    </tr>\n",
       "    <tr>\n",
       "      <th>4</th>\n",
       "      <td>TEST_00004</td>\n",
       "      <td>자연생태관광지</td>\n",
       "    </tr>\n",
       "    <tr>\n",
       "      <th>...</th>\n",
       "      <td>...</td>\n",
       "      <td>...</td>\n",
       "    </tr>\n",
       "    <tr>\n",
       "      <th>7275</th>\n",
       "      <td>TEST_07275</td>\n",
       "      <td>한식</td>\n",
       "    </tr>\n",
       "    <tr>\n",
       "      <th>7276</th>\n",
       "      <td>TEST_07276</td>\n",
       "      <td>문화원</td>\n",
       "    </tr>\n",
       "    <tr>\n",
       "      <th>7277</th>\n",
       "      <td>TEST_07277</td>\n",
       "      <td>야영장,오토캠핑장</td>\n",
       "    </tr>\n",
       "    <tr>\n",
       "      <th>7278</th>\n",
       "      <td>TEST_07278</td>\n",
       "      <td>모텔</td>\n",
       "    </tr>\n",
       "    <tr>\n",
       "      <th>7279</th>\n",
       "      <td>TEST_07279</td>\n",
       "      <td>박물관</td>\n",
       "    </tr>\n",
       "  </tbody>\n",
       "</table>\n",
       "<p>7280 rows × 2 columns</p>\n",
       "</div>"
      ],
      "text/plain": [
       "              id       cat3\n",
       "0     TEST_00000         한식\n",
       "1     TEST_00001         한식\n",
       "2     TEST_00002         한식\n",
       "3     TEST_00003       수련시설\n",
       "4     TEST_00004    자연생태관광지\n",
       "...          ...        ...\n",
       "7275  TEST_07275         한식\n",
       "7276  TEST_07276        문화원\n",
       "7277  TEST_07277  야영장,오토캠핑장\n",
       "7278  TEST_07278         모텔\n",
       "7279  TEST_07279        박물관\n",
       "\n",
       "[7280 rows x 2 columns]"
      ]
     },
     "execution_count": 5,
     "metadata": {},
     "output_type": "execute_result"
    }
   ],
   "source": [
    "comp = pd.read_csv('./results/auto_roberta-s_E7_lr3e5_adamw_fullPreprocessing_PosExtractor_S20_infer.csv')\n",
    "comp"
   ]
  },
  {
   "cell_type": "code",
   "execution_count": null,
   "id": "c8371647",
   "metadata": {},
   "outputs": [],
   "source": [
    "for i in range(7280)"
   ]
  },
  {
   "cell_type": "code",
   "execution_count": 6,
   "id": "85d8f126",
   "metadata": {},
   "outputs": [],
   "source": [
    "c = comp['cat3'] == A['cat3']"
   ]
  },
  {
   "cell_type": "code",
   "execution_count": 32,
   "id": "525ab1f1",
   "metadata": {},
   "outputs": [
    {
     "data": {
      "text/plain": [
       "False    7224\n",
       "True       56\n",
       "Name: cat3, dtype: int64"
      ]
     },
     "execution_count": 32,
     "metadata": {},
     "output_type": "execute_result"
    }
   ],
   "source": [
    "z = c.value_counts()\n",
    "z\n"
   ]
  },
  {
   "cell_type": "code",
   "execution_count": 36,
   "id": "f4f4580a",
   "metadata": {},
   "outputs": [
    {
     "data": {
      "text/plain": [
       "0.00728021978021978"
      ]
     },
     "execution_count": 36,
     "metadata": {},
     "output_type": "execute_result"
    }
   ],
   "source": [
    "from glob import glob\n",
    "import os \n",
    "res_list = glob('./results/*')\n",
    "res_list = sorted(res_list, key=lambda x : int(x.split('_E')[-1].split('_lr')[0]))\n",
    "s_list = []\n",
    "for path in res_list :\n",
    "    comp = pd.read_csv(path)\n",
    "    scr = comp['cat3'] == A['cat3']\n",
    "    scr = scr.value_counts()\n",
    "    f = scr[0]\n",
    "    t = scr[1]\n",
    "    score = t/(t+f)\n",
    "    s_list.append(score)\n",
    "min(s_list)"
   ]
  },
  {
   "cell_type": "code",
   "execution_count": 37,
   "id": "8fe0ad1a",
   "metadata": {},
   "outputs": [
    {
     "data": {
      "text/plain": [
       "[0.012912087912087911,\n",
       " 0.010439560439560439,\n",
       " 0.008653846153846154,\n",
       " 0.007692307692307693,\n",
       " 0.00782967032967033,\n",
       " 0.007967032967032966,\n",
       " 0.007692307692307693,\n",
       " 0.007692307692307693,\n",
       " 0.00728021978021978,\n",
       " 0.008241758241758242,\n",
       " 0.007967032967032966,\n",
       " 0.007967032967032966,\n",
       " 0.00782967032967033,\n",
       " 0.007554945054945055,\n",
       " 0.007554945054945055,\n",
       " 0.007967032967032966,\n",
       " 0.008379120879120879,\n",
       " 0.00728021978021978,\n",
       " 0.00782967032967033,\n",
       " 0.008379120879120879,\n",
       " 0.007692307692307693,\n",
       " 0.008379120879120879,\n",
       " 0.008241758241758242,\n",
       " 0.00782967032967033,\n",
       " 0.008104395604395605,\n",
       " 0.007967032967032966,\n",
       " 0.008379120879120879,\n",
       " 0.008104395604395605,\n",
       " 0.007967032967032966,\n",
       " 0.007967032967032966,\n",
       " 0.00782967032967033,\n",
       " 0.007692307692307693,\n",
       " 0.008241758241758242,\n",
       " 0.007692307692307693,\n",
       " 0.007554945054945055,\n",
       " 0.007554945054945055]"
      ]
     },
     "execution_count": 37,
     "metadata": {},
     "output_type": "execute_result"
    }
   ],
   "source": [
    "s_list\n"
   ]
  }
 ],
 "metadata": {
  "kernelspec": {
   "display_name": "Python 3 (ipykernel)",
   "language": "python",
   "name": "python3"
  },
  "language_info": {
   "codemirror_mode": {
    "name": "ipython",
    "version": 3
   },
   "file_extension": ".py",
   "mimetype": "text/x-python",
   "name": "python",
   "nbconvert_exporter": "python",
   "pygments_lexer": "ipython3",
   "version": "3.8.13"
  }
 },
 "nbformat": 4,
 "nbformat_minor": 5
}
