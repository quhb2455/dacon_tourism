{
 "cells": [
  {
   "cell_type": "code",
   "execution_count": 2,
   "id": "7f31512a",
   "metadata": {},
   "outputs": [],
   "source": [
    "import pandas as pd\n",
    "import os"
   ]
  },
  {
   "cell_type": "code",
   "execution_count": 3,
   "id": "f8d20465",
   "metadata": {},
   "outputs": [
    {
     "data": {
      "text/html": [
       "<div>\n",
       "<style scoped>\n",
       "    .dataframe tbody tr th:only-of-type {\n",
       "        vertical-align: middle;\n",
       "    }\n",
       "\n",
       "    .dataframe tbody tr th {\n",
       "        vertical-align: top;\n",
       "    }\n",
       "\n",
       "    .dataframe thead th {\n",
       "        text-align: right;\n",
       "    }\n",
       "</style>\n",
       "<table border=\"1\" class=\"dataframe\">\n",
       "  <thead>\n",
       "    <tr style=\"text-align: right;\">\n",
       "      <th></th>\n",
       "      <th>id</th>\n",
       "      <th>img_path</th>\n",
       "      <th>overview</th>\n",
       "      <th>cat1</th>\n",
       "      <th>cat2</th>\n",
       "      <th>cat3</th>\n",
       "    </tr>\n",
       "  </thead>\n",
       "  <tbody>\n",
       "    <tr>\n",
       "      <th>0</th>\n",
       "      <td>TRAIN_00000</td>\n",
       "      <td>./image/train/TRAIN_00000.jpg</td>\n",
       "      <td>소안항은 조용한 섬으로 인근해안이 청정해역으로 일찍이 김 양식을 해서 높은 소득을 ...</td>\n",
       "      <td>자연</td>\n",
       "      <td>자연관광지</td>\n",
       "      <td>항구/포구</td>\n",
       "    </tr>\n",
       "    <tr>\n",
       "      <th>1</th>\n",
       "      <td>TRAIN_00001</td>\n",
       "      <td>./image/train/TRAIN_00001.jpg</td>\n",
       "      <td>경기도 이천시 모가면에 있는 골프장으로 대중제 18홀이다. 회원제로 개장을 했다가 ...</td>\n",
       "      <td>레포츠</td>\n",
       "      <td>육상 레포츠</td>\n",
       "      <td>골프</td>\n",
       "    </tr>\n",
       "    <tr>\n",
       "      <th>2</th>\n",
       "      <td>TRAIN_00002</td>\n",
       "      <td>./image/train/TRAIN_00002.jpg</td>\n",
       "      <td>금오산성숯불갈비는 한우고기만을 전문적으로 취급하고 사용하는 부식 자재 또한 유기농법...</td>\n",
       "      <td>음식</td>\n",
       "      <td>음식점</td>\n",
       "      <td>한식</td>\n",
       "    </tr>\n",
       "    <tr>\n",
       "      <th>3</th>\n",
       "      <td>TRAIN_00003</td>\n",
       "      <td>./image/train/TRAIN_00003.jpg</td>\n",
       "      <td>철판 위에서 요리하는 안동찜닭을 맛볼 수 있는 곳이다. 경상북도 안동시에 있는 한식...</td>\n",
       "      <td>음식</td>\n",
       "      <td>음식점</td>\n",
       "      <td>한식</td>\n",
       "    </tr>\n",
       "    <tr>\n",
       "      <th>4</th>\n",
       "      <td>TRAIN_00004</td>\n",
       "      <td>./image/train/TRAIN_00004.jpg</td>\n",
       "      <td>※ 영업시간 10:30 ~ 20:30\\n\\n3대에 걸쳐 아귀만을 전문으로 취급하는 ...</td>\n",
       "      <td>음식</td>\n",
       "      <td>음식점</td>\n",
       "      <td>한식</td>\n",
       "    </tr>\n",
       "  </tbody>\n",
       "</table>\n",
       "</div>"
      ],
      "text/plain": [
       "            id                       img_path  \\\n",
       "0  TRAIN_00000  ./image/train/TRAIN_00000.jpg   \n",
       "1  TRAIN_00001  ./image/train/TRAIN_00001.jpg   \n",
       "2  TRAIN_00002  ./image/train/TRAIN_00002.jpg   \n",
       "3  TRAIN_00003  ./image/train/TRAIN_00003.jpg   \n",
       "4  TRAIN_00004  ./image/train/TRAIN_00004.jpg   \n",
       "\n",
       "                                            overview cat1    cat2   cat3  \n",
       "0  소안항은 조용한 섬으로 인근해안이 청정해역으로 일찍이 김 양식을 해서 높은 소득을 ...   자연   자연관광지  항구/포구  \n",
       "1  경기도 이천시 모가면에 있는 골프장으로 대중제 18홀이다. 회원제로 개장을 했다가 ...  레포츠  육상 레포츠     골프  \n",
       "2  금오산성숯불갈비는 한우고기만을 전문적으로 취급하고 사용하는 부식 자재 또한 유기농법...   음식     음식점     한식  \n",
       "3  철판 위에서 요리하는 안동찜닭을 맛볼 수 있는 곳이다. 경상북도 안동시에 있는 한식...   음식     음식점     한식  \n",
       "4  ※ 영업시간 10:30 ~ 20:30\\n\\n3대에 걸쳐 아귀만을 전문으로 취급하는 ...   음식     음식점     한식  "
      ]
     },
     "execution_count": 3,
     "metadata": {},
     "output_type": "execute_result"
    }
   ],
   "source": [
    "df = pd.read_csv('./data/train.csv')\n",
    "df.head()"
   ]
  },
  {
   "cell_type": "code",
   "execution_count": 4,
   "id": "6c09adf6",
   "metadata": {},
   "outputs": [
    {
     "data": {
      "text/plain": [
       "array(['자연', '레포츠', '음식', '인문(문화/예술/역사)', '숙박', '쇼핑'], dtype=object)"
      ]
     },
     "metadata": {},
     "output_type": "display_data"
    },
    {
     "data": {
      "text/plain": [
       "array(['자연관광지', '육상 레포츠', '음식점', '축제', '역사관광지', '문화시설', '휴양관광지', '숙박시설',\n",
       "       '공연/행사', '쇼핑', '체험관광지', '복합 레포츠', '건축/조형물', '관광자원', '수상 레포츠',\n",
       "       '산업관광지', '항공 레포츠', '레포츠소개'], dtype=object)"
      ]
     },
     "metadata": {},
     "output_type": "display_data"
    },
    {
     "data": {
      "text/plain": [
       "array(['항구/포구', '골프', '한식', '야영장,오토캠핑장', '섬', '일반축제', '유적지/사적지', '일식',\n",
       "       '자연휴양림', '전시관', '관광단지', '모텔', '스키(보드) 렌탈샵', '바/까페', '채식전문점',\n",
       "       '한옥스테이', '컨벤션', '성', '중식', '안보관광', '전문상가', '이색거리', '해수욕장', '5일장',\n",
       "       '미술관/화랑', '공원', '상설시장', '박물관', '도서관', '공연장', '농.산.어촌 체험', '복합 레포츠',\n",
       "       '펜션', '산', '기념탑/기념비/전망대', '기념관', '자동차경주', '자전거하이킹', '희귀동.식물',\n",
       "       '유명건물', '수목원', '유원지', '사찰', '강', '자연생태관광지', '박람회', '문화전수시설', '계곡',\n",
       "       '폭포', '서양식', '종교성지', '동상', '기타행사', '고택', '국립공원', '게스트하우스', '썰매장',\n",
       "       '요트', '문화원', '래프팅', '승마', '공예,공방', '트래킹', '온천/욕장/스파', '수련시설',\n",
       "       '해안절경', '패밀리레스토랑', '기암괴석', '기타', '홈스테이', '민물낚시', '콘도미니엄', '민박',\n",
       "       '테마공원', '유람선/잠수함관광', '바다낚시', '수영', '백화점', '호수', '카약/카누', '외국문화원',\n",
       "       '면세점', '다리/대교', '카지노', '분수', '동굴', '도립공원', '윈드서핑/제트스키', '특산물판매점',\n",
       "       '유스호스텔', '고궁', '서비스드레지던스', '민속마을', '전통공연', '문', '식음료', '번지점프',\n",
       "       '터널', '문화관광축제', '카트', '클럽', '발전소', '대중콘서트', 'MTB', '군립공원', '스케이트',\n",
       "       '대형서점', '생가', '스카이다이빙', '영화관', '헹글라이딩/패러글라이딩', '스노쿨링/스킨스쿠버다이빙',\n",
       "       '약수터', '인라인(실내 인라인 포함)', '이색찜질방', '학교', '헬스투어', '등대', '사격장', 'ATV',\n",
       "       '빙벽등반', '수상레포츠', '연극', '컨벤션센터', '스키/스노보드', '뮤지컬', '이색체험', '클래식음악회'],\n",
       "      dtype=object)"
      ]
     },
     "metadata": {},
     "output_type": "display_data"
    }
   ],
   "source": [
    "display(df['cat1'].unique())\n",
    "display(df['cat2'].unique())\n",
    "display(df['cat3'].unique())"
   ]
  },
  {
   "cell_type": "code",
   "execution_count": 5,
   "id": "8efa6517",
   "metadata": {},
   "outputs": [
    {
     "data": {
      "text/plain": [
       "6"
      ]
     },
     "metadata": {},
     "output_type": "display_data"
    },
    {
     "data": {
      "text/plain": [
       "18"
      ]
     },
     "metadata": {},
     "output_type": "display_data"
    },
    {
     "data": {
      "text/plain": [
       "128"
      ]
     },
     "metadata": {},
     "output_type": "display_data"
    }
   ],
   "source": [
    "display(len(df['cat1'].unique()))\n",
    "display(len(df['cat2'].unique()))\n",
    "display(len(df['cat3'].unique()))"
   ]
  },
  {
   "cell_type": "markdown",
   "id": "34b24a4e",
   "metadata": {},
   "source": [
    "# cat1 - cat2 연관성"
   ]
  },
  {
   "cell_type": "code",
   "execution_count": 6,
   "id": "0f72ab89",
   "metadata": {},
   "outputs": [
    {
     "name": "stdout",
     "output_type": "stream",
     "text": [
      "cat1 name :  자연\n",
      "['자연관광지' '관광자원']\n",
      "\n",
      "cat1 name :  레포츠\n",
      "['육상 레포츠' '복합 레포츠' '수상 레포츠' '항공 레포츠' '레포츠소개']\n",
      "\n",
      "cat1 name :  음식\n",
      "['음식점']\n",
      "\n",
      "cat1 name :  인문(문화/예술/역사)\n",
      "['축제' '역사관광지' '문화시설' '휴양관광지' '공연/행사' '체험관광지' '건축/조형물' '산업관광지']\n",
      "\n",
      "cat1 name :  숙박\n",
      "['숙박시설']\n",
      "\n",
      "cat1 name :  쇼핑\n",
      "['쇼핑']\n",
      "\n"
     ]
    }
   ],
   "source": [
    "for n_cat1 in df['cat1'].unique() :\n",
    "    print(\"cat1 name : \", n_cat1)\n",
    "    print(df[df['cat1'] == n_cat1]['cat2'].unique())\n",
    "    print()"
   ]
  },
  {
   "cell_type": "markdown",
   "id": "b0db7e2e",
   "metadata": {},
   "source": [
    "# cat2 - cat3 연관성"
   ]
  },
  {
   "cell_type": "code",
   "execution_count": 7,
   "id": "ce4a3fbc",
   "metadata": {},
   "outputs": [
    {
     "name": "stdout",
     "output_type": "stream",
     "text": [
      "cat2 name :  자연관광지\n",
      "['항구/포구' '섬' '자연휴양림' '해수욕장' '산' '수목원' '강' '자연생태관광지' '계곡' '폭포' '국립공원'\n",
      " '해안절경' '호수' '동굴' '도립공원' '군립공원' '약수터' '등대']\n",
      "\n",
      "cat2 name :  육상 레포츠\n",
      "['골프' '야영장,오토캠핑장' '스키(보드) 렌탈샵' '자동차경주' '자전거하이킹' '썰매장' '승마' '트래킹' '수련시설'\n",
      " '카지노' '번지점프' '카트' 'MTB' '스케이트' '인라인(실내 인라인 포함)' '사격장' 'ATV' '빙벽등반'\n",
      " '스키/스노보드']\n",
      "\n",
      "cat2 name :  음식점\n",
      "['한식' '일식' '바/까페' '채식전문점' '중식' '서양식' '패밀리레스토랑' '클럽']\n",
      "\n",
      "cat2 name :  축제\n",
      "['일반축제' '문화관광축제']\n",
      "\n",
      "cat2 name :  역사관광지\n",
      "['유적지/사적지' '성' '안보관광' '사찰' '종교성지' '고택' '고궁' '민속마을' '문' '생가']\n",
      "\n",
      "cat2 name :  문화시설\n",
      "['전시관' '미술관/화랑' '박물관' '도서관' '공연장' '기념관' '문화전수시설' '문화원' '외국문화원' '대형서점'\n",
      " '영화관' '학교' '컨벤션센터']\n",
      "\n",
      "cat2 name :  휴양관광지\n",
      "['관광단지' '공원' '유원지' '온천/욕장/스파' '테마공원' '유람선/잠수함관광' '이색찜질방' '헬스투어']\n",
      "\n",
      "cat2 name :  숙박시설\n",
      "['모텔' '한옥스테이' '펜션' '게스트하우스' '홈스테이' '콘도미니엄' '민박' '유스호스텔' '서비스드레지던스']\n",
      "\n",
      "cat2 name :  공연/행사\n",
      "['컨벤션' '박람회' '기타행사' '전통공연' '대중콘서트' '연극' '뮤지컬' '클래식음악회']\n",
      "\n",
      "cat2 name :  쇼핑\n",
      "['전문상가' '5일장' '상설시장' '공예,공방' '백화점' '면세점' '특산물판매점']\n",
      "\n",
      "cat2 name :  체험관광지\n",
      "['이색거리' '농.산.어촌 체험' '이색체험']\n",
      "\n",
      "cat2 name :  복합 레포츠\n",
      "['복합 레포츠']\n",
      "\n",
      "cat2 name :  건축/조형물\n",
      "['기념탑/기념비/전망대' '유명건물' '동상' '다리/대교' '분수' '터널']\n",
      "\n",
      "cat2 name :  관광자원\n",
      "['희귀동.식물' '기암괴석']\n",
      "\n",
      "cat2 name :  수상 레포츠\n",
      "['요트' '래프팅' '민물낚시' '바다낚시' '수영' '카약/카누' '윈드서핑/제트스키' '스노쿨링/스킨스쿠버다이빙']\n",
      "\n",
      "cat2 name :  산업관광지\n",
      "['기타' '식음료' '발전소']\n",
      "\n",
      "cat2 name :  항공 레포츠\n",
      "['스카이다이빙' '헹글라이딩/패러글라이딩']\n",
      "\n",
      "cat2 name :  레포츠소개\n",
      "['수상레포츠']\n",
      "\n"
     ]
    }
   ],
   "source": [
    "for n_cat2 in df['cat2'].unique() :\n",
    "    print(\"cat2 name : \", n_cat2)\n",
    "    print(df[df['cat2'] == n_cat2]['cat3'].unique())\n",
    "    print()"
   ]
  },
  {
   "cell_type": "code",
   "execution_count": 8,
   "id": "4478ef8b",
   "metadata": {
    "scrolled": false
   },
   "outputs": [
    {
     "data": {
      "text/html": [
       "<div>\n",
       "<style scoped>\n",
       "    .dataframe tbody tr th:only-of-type {\n",
       "        vertical-align: middle;\n",
       "    }\n",
       "\n",
       "    .dataframe tbody tr th {\n",
       "        vertical-align: top;\n",
       "    }\n",
       "\n",
       "    .dataframe thead th {\n",
       "        text-align: right;\n",
       "    }\n",
       "</style>\n",
       "<table border=\"1\" class=\"dataframe\">\n",
       "  <thead>\n",
       "    <tr style=\"text-align: right;\">\n",
       "      <th></th>\n",
       "      <th>cat1</th>\n",
       "      <th>cat2</th>\n",
       "      <th>cat3</th>\n",
       "      <th>count</th>\n",
       "    </tr>\n",
       "  </thead>\n",
       "  <tbody>\n",
       "    <tr>\n",
       "      <th>0</th>\n",
       "      <td>음식</td>\n",
       "      <td>음식점</td>\n",
       "      <td>한식</td>\n",
       "      <td>3438</td>\n",
       "    </tr>\n",
       "    <tr>\n",
       "      <th>1</th>\n",
       "      <td>레포츠</td>\n",
       "      <td>육상 레포츠</td>\n",
       "      <td>야영장,오토캠핑장</td>\n",
       "      <td>1558</td>\n",
       "    </tr>\n",
       "    <tr>\n",
       "      <th>2</th>\n",
       "      <td>음식</td>\n",
       "      <td>음식점</td>\n",
       "      <td>바/까페</td>\n",
       "      <td>785</td>\n",
       "    </tr>\n",
       "    <tr>\n",
       "      <th>3</th>\n",
       "      <td>인문(문화/예술/역사)</td>\n",
       "      <td>역사관광지</td>\n",
       "      <td>유적지/사적지</td>\n",
       "      <td>622</td>\n",
       "    </tr>\n",
       "    <tr>\n",
       "      <th>4</th>\n",
       "      <td>인문(문화/예술/역사)</td>\n",
       "      <td>축제</td>\n",
       "      <td>일반축제</td>\n",
       "      <td>549</td>\n",
       "    </tr>\n",
       "    <tr>\n",
       "      <th>...</th>\n",
       "      <td>...</td>\n",
       "      <td>...</td>\n",
       "      <td>...</td>\n",
       "      <td>...</td>\n",
       "    </tr>\n",
       "    <tr>\n",
       "      <th>123</th>\n",
       "      <td>인문(문화/예술/역사)</td>\n",
       "      <td>공연/행사</td>\n",
       "      <td>대중콘서트</td>\n",
       "      <td>2</td>\n",
       "    </tr>\n",
       "    <tr>\n",
       "      <th>124</th>\n",
       "      <td>인문(문화/예술/역사)</td>\n",
       "      <td>공연/행사</td>\n",
       "      <td>클래식음악회</td>\n",
       "      <td>2</td>\n",
       "    </tr>\n",
       "    <tr>\n",
       "      <th>125</th>\n",
       "      <td>레포츠</td>\n",
       "      <td>항공 레포츠</td>\n",
       "      <td>스카이다이빙</td>\n",
       "      <td>2</td>\n",
       "    </tr>\n",
       "    <tr>\n",
       "      <th>126</th>\n",
       "      <td>레포츠</td>\n",
       "      <td>육상 레포츠</td>\n",
       "      <td>인라인(실내 인라인 포함)</td>\n",
       "      <td>2</td>\n",
       "    </tr>\n",
       "    <tr>\n",
       "      <th>127</th>\n",
       "      <td>인문(문화/예술/역사)</td>\n",
       "      <td>공연/행사</td>\n",
       "      <td>뮤지컬</td>\n",
       "      <td>2</td>\n",
       "    </tr>\n",
       "  </tbody>\n",
       "</table>\n",
       "<p>128 rows × 4 columns</p>\n",
       "</div>"
      ],
      "text/plain": [
       "             cat1    cat2            cat3 count\n",
       "0              음식     음식점              한식  3438\n",
       "1             레포츠  육상 레포츠       야영장,오토캠핑장  1558\n",
       "2              음식     음식점            바/까페   785\n",
       "3    인문(문화/예술/역사)   역사관광지         유적지/사적지   622\n",
       "4    인문(문화/예술/역사)      축제            일반축제   549\n",
       "..            ...     ...             ...   ...\n",
       "123  인문(문화/예술/역사)   공연/행사           대중콘서트     2\n",
       "124  인문(문화/예술/역사)   공연/행사          클래식음악회     2\n",
       "125           레포츠  항공 레포츠          스카이다이빙     2\n",
       "126           레포츠  육상 레포츠  인라인(실내 인라인 포함)     2\n",
       "127  인문(문화/예술/역사)   공연/행사             뮤지컬     2\n",
       "\n",
       "[128 rows x 4 columns]"
      ]
     },
     "execution_count": 8,
     "metadata": {},
     "output_type": "execute_result"
    }
   ],
   "source": [
    "import warnings\n",
    "warnings.filterwarnings(\"ignore\")\n",
    "\n",
    "label_df = pd.DataFrame(columns=['cat1','cat2','cat3','count'])\n",
    "for n_cat1 in df['cat1'].unique() :\n",
    "    cat2 = df[df['cat1'] == n_cat1]['cat2'].unique()\n",
    "    for n_cat2 in cat2 :\n",
    "        cat3  = df[df['cat1'] == n_cat1][df['cat2'] == n_cat2]['cat3'].unique()\n",
    "        for n_cat3 in cat3 :\n",
    "            cnt = len(df[df['cat1'] == n_cat1][df['cat2'] == n_cat2][df['cat3'] == n_cat3])\n",
    "            n = pd.DataFrame([[n_cat1, n_cat2, n_cat3, cnt]], columns=['cat1', 'cat2', 'cat3', 'count'])\n",
    "            label_df = pd.concat([label_df, n], ignore_index=True)\n",
    "\n",
    "label_df = label_df.sort_values(by='count', ascending=False)\n",
    "label_df = label_df.reset_index(drop=True)\n",
    "label_df"
   ]
  },
  {
   "cell_type": "markdown",
   "id": "8c39c3ff",
   "metadata": {},
   "source": [
    "- 각각의 cat3가 여러 cat2에 포함되어 있지 않음\n",
    "    - 카테고리가 겹치 않음\n",
    "- 최소 2개부터 최대 3000개가 넘는 이미지들이 있음"
   ]
  },
  {
   "cell_type": "code",
   "execution_count": 9,
   "id": "cc26e632",
   "metadata": {
    "scrolled": false
   },
   "outputs": [],
   "source": [
    "import matplotlib.pyplot as plt\n",
    "from matplotlib import font_manager as fm\n",
    "path = 'C:/Windows/Fonts/malgun.ttf'\n",
    "font_name = fm.FontProperties(fname=path).get_name()\n",
    "plt.rc('font', family=font_name)\n",
    "\n",
    "import random\n",
    "import cv2\n",
    "\n",
    "# 이미지 출력\n",
    "\n",
    "# lb_df_sort = label_df.sort_values(by=['cat1','cat2', 'cat3'])\n",
    "# f, axes = plt.subplots(32,4, figsize=(20, 120) )\n",
    "# axes = axes.flatten()\n",
    "# for i in range(len(axes)) :\n",
    "#     cat_key = list(lb_df_sort[['cat1', 'cat2', 'cat3']].iloc[i])\n",
    "#     img_path = df[df['cat1'] == cat_key[0]][df['cat2'] == cat_key[1]][df['cat3'] == cat_key[2]]['img_path']\n",
    "#     img = cv2.imread(os.path.join('./data/',img_path.iloc[random.randint(0, len(img_path)-1)]))\n",
    "#     img = cv2.cvtColor(img, cv2.COLOR_BGR2RGB)\n",
    "    \n",
    "#     axes[i].imshow(img)\n",
    "#     axes[i].set_title('-'.join(cat_key)+f\"\\n{len(img_path)} 장\",size=15)\n",
    "#     axes[i].set_axis_off()\n",
    "# plt.subplots_adjust(hspace=0.3)"
   ]
  },
  {
   "cell_type": "markdown",
   "id": "af6caff7",
   "metadata": {},
   "source": [
    "- cat1이 \"인문(문화/예술/역사)\"고 cat2가 \"공연/행사\" 혹은 \"축제\" 면 이미지가 포스터임\n",
    "    - OCR 모델을 사용해서 글자부분만 crop한후 embedding 해서 classifier 직전에 합쳐주면 좋을 듯\n",
    "- \"인문(문화/예술/역사)-산업관광지-발전소\"의 경우 발전소가 전체 이미지에서 작은 부분만을 차지함\n",
    "    - 이미지를 확대하거나 잘라내면 안될듯\n",
    "- cat1의 \"자연\"을 제외하면 건물 이미지가 굉장히 많음\n",
    "- cat1의 \"자연\"과 cat2의 \"수상레포츠\"는 물이 배경이라 구분하기 힘들듯\n",
    "- 이미지의 부분적인 정보로는 분류가 힘들듯\n",
    "    - Global context를 포함시킬 수 있는 모델 사용 -> Transformer 기반으로\n",
    "    - 작은 Object에도 잘 집중 할 수 있는 모델 사용"
   ]
  },
  {
   "cell_type": "code",
   "execution_count": null,
   "id": "73ad2ec0",
   "metadata": {},
   "outputs": [],
   "source": []
  },
  {
   "cell_type": "code",
   "execution_count": null,
   "id": "99004150",
   "metadata": {},
   "outputs": [],
   "source": []
  }
 ],
 "metadata": {
  "kernelspec": {
   "display_name": "Python 3 (ipykernel)",
   "language": "python",
   "name": "python3"
  },
  "language_info": {
   "codemirror_mode": {
    "name": "ipython",
    "version": 3
   },
   "file_extension": ".py",
   "mimetype": "text/x-python",
   "name": "python",
   "nbconvert_exporter": "python",
   "pygments_lexer": "ipython3",
   "version": "3.8.13"
  }
 },
 "nbformat": 4,
 "nbformat_minor": 5
}
